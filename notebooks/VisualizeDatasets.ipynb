{
 "cells": [
  {
   "cell_type": "markdown",
   "id": "191fbf06-18c8-49b8-b1b1-2edb7fca64d7",
   "metadata": {
    "tags": []
   },
   "source": [
    "# Visualization and explanation of the synthetic datasets"
   ]
  },
  {
   "cell_type": "markdown",
   "id": "e2207ec9-bca0-4dd6-b68c-7cb77405140a",
   "metadata": {},
   "source": [
    "In this work, we use two synthetic datasets ```FourBars``` and ```ColorBar```, to test our algorithms with synthetic data. In this notebooks the generators are presented and the datasets are visualized."
   ]
  },
  {
   "cell_type": "code",
   "execution_count": 1,
   "id": "c48b7863",
   "metadata": {},
   "outputs": [],
   "source": [
    "import sys\n",
    "sys.path.append(\"..\")\n",
    "import os\n",
    "os.chdir(\"..\")"
   ]
  },
  {
   "cell_type": "code",
   "execution_count": 28,
   "id": "c0129cae",
   "metadata": {},
   "outputs": [],
   "source": [
    "# OTHER IMPORTS\n",
    "import torch\n",
    "\n",
    "# SETUP for the figures.\n",
    "import seaborn as sns\n",
    "import matplotlib.pyplot as plt\n",
    "plt.style.use('seaborn-paper')\n",
    "\n",
    "#plt.rc('font', family='Avenir', serif='Computer Modern')\n",
    "plt.rc('text', usetex=True)\n",
    "plt.rc('xtick', labelsize=8)\n",
    "plt.rc('ytick', labelsize=8)\n",
    "plt.rc('axes', labelsize=8)\n",
    "plt.rc('axes', titlesize=8)\n",
    "plt.rc('legend',fontsize=8) # using a size in points\n",
    "plt.rcParams['axes.linewidth'] = 1.15\n",
    "#plt.rcParams[\"figure.figsize\"] = (6.,4.1631189606246317)\n",
    "\n",
    "rc = {\"axes.spines.left\" : True,\n",
    "      \"axes.spines.right\" : True,\n",
    "      \"axes.spines.bottom\" : True,\n",
    "      \"axes.spines.top\" : True,\n",
    "      \"xtick.bottom\" : True,\n",
    "      \"xtick.labelbottom\" : True,\n",
    "      \"ytick.labelleft\" : True,\n",
    "      \"ytick.left\" : True\n",
    "     }\n",
    "\n",
    "plt.rcParams.update({\n",
    "    \"text.usetex\": True,\n",
    "    #\"font.sans-serif\": [\"Helvetica\"]}\n",
    "    \"text.usetex\": True,\n",
    "    \"pgf.texsystem\": \"pdflatex\",\n",
    "    \"pgf.preamble\": r\"\\usepackage{bm}\",\n",
    "    \"font.family\": \"serif\",\n",
    "    # Use LaTeX default serif font.\n",
    "    \"font.serif\": [\"Times\"],\n",
    "    # Use specific cursive fonts.\n",
    "    \"font.cursive\": [\"Comic Neue\", \"Comic Sans MS\"],\n",
    "\n",
    "})\n",
    "plt.rcParams.update(rc)"
   ]
  },
  {
   "cell_type": "code",
   "execution_count": 29,
   "id": "a71c7e8b-4337-486b-80bb-ca3f6aa46f12",
   "metadata": {},
   "outputs": [],
   "source": [
    "from data.four_bars import FourBars, ColorBar "
   ]
  },
  {
   "cell_type": "markdown",
   "id": "4dcf56af",
   "metadata": {},
   "source": [
    "## Initialize the datasets and plot random samples and traversals"
   ]
  },
  {
   "cell_type": "markdown",
   "id": "d6ce7c9b-cd76-45bf-9da8-ed496d6c6b48",
   "metadata": {},
   "source": [
    "We implemented two datasets, FourBars and ColorBar. (see Figure 3a, 3b in the paper) FourBars has 4 factors of variation, whereas ColorBars only has 3."
   ]
  },
  {
   "cell_type": "code",
   "execution_count": 141,
   "id": "af7a4732-75f2-461e-89d4-5724eb78a1d0",
   "metadata": {},
   "outputs": [],
   "source": [
    "## Use this flag to switch between datasets.\n",
    "use_colorbar = True\n",
    "n_intervals = 11\n",
    "if use_colorbar:\n",
    "    syn_dataset = ColorBar(n_intervals, nonlin_colors=False)\n",
    "    num_factors = 3\n",
    "else:\n",
    "    syn_dataset = FourBars(n_intervals)\n",
    "    num_factors = 4"
   ]
  },
  {
   "cell_type": "code",
   "execution_count": 142,
   "id": "e044bf23",
   "metadata": {},
   "outputs": [],
   "source": [
    "# Use the sample_factors function, to draw n_gen valid factor combinations.\n",
    "n_gen = 8\n",
    "facts = syn_dataset.sample_factors(n_gen)"
   ]
  },
  {
   "cell_type": "code",
   "execution_count": 143,
   "id": "68ea3bbb",
   "metadata": {},
   "outputs": [
    {
     "data": {
      "text/plain": [
       "array([[ 9,  8,  4],\n",
       "       [ 0,  1,  8],\n",
       "       [ 5, 10,  1],\n",
       "       [ 1,  8,  6],\n",
       "       [ 7,  0,  0],\n",
       "       [ 3,  5,  8],\n",
       "       [ 6,  3,  3],\n",
       "       [ 1,  3,  3]])"
      ]
     },
     "execution_count": 143,
     "metadata": {},
     "output_type": "execute_result"
    }
   ],
   "source": [
    "facts"
   ]
  },
  {
   "cell_type": "markdown",
   "id": "eaa00ad2-9961-44f9-8580-d6a898b961a3",
   "metadata": {},
   "source": [
    "... draws samples values of three / four factors in the range ```[0, n_intervals-1]```"
   ]
  },
  {
   "cell_type": "code",
   "execution_count": 144,
   "id": "674666dc",
   "metadata": {},
   "outputs": [],
   "source": [
    "# Then use sample_observations_from_factors to generate the actual images\n",
    "batch = syn_dataset.sample_observations_from_factors(facts)"
   ]
  },
  {
   "cell_type": "code",
   "execution_count": 145,
   "id": "8fbf5232",
   "metadata": {},
   "outputs": [],
   "source": [
    "import matplotlib.pyplot as plt"
   ]
  },
  {
   "cell_type": "code",
   "execution_count": 146,
   "id": "44cea02c",
   "metadata": {},
   "outputs": [
    {
     "data": {
      "image/png": "[encoded data removed]",
      "text/plain": [
       "<Figure size 1296x648 with 8 Axes>"
      ]
     },
     "metadata": {
      "needs_background": "light"
     },
     "output_type": "display_data"
    }
   ],
   "source": [
    "f, ax_list = plt.subplots(1,n_gen)\n",
    "for idx, a in enumerate(ax_list):\n",
    "    out = batch[idx]\n",
    "    #print(out.shape)\n",
    "    a.imshow(out)\n",
    "plt.gcf().set_size_inches(18,9)"
   ]
  },
  {
   "cell_type": "markdown",
   "id": "71a047dd",
   "metadata": {},
   "source": [
    "## Generate ground truth traversals"
   ]
  },
  {
   "cell_type": "code",
   "execution_count": 147,
   "id": "6d623120",
   "metadata": {},
   "outputs": [],
   "source": [
    "import torch\n",
    "n_intervals = 7\n",
    "facts = torch.ones(num_factors*n_intervals, num_factors)*5 # sample intervals.\n",
    "for i in range(num_factors):\n",
    "    facts[i*n_intervals:(i+1)*n_intervals,i] = torch.arange(n_intervals, dtype=torch.float)*(10./(n_intervals-1))\n",
    "\n",
    "batch = syn_dataset.sample_observations_from_factors(facts)"
   ]
  },
  {
   "cell_type": "code",
   "execution_count": 148,
   "id": "8211d263",
   "metadata": {},
   "outputs": [],
   "source": [
    "import torchvision\n",
    "import numpy as np\n",
    "def plot_traversal(batch, n_row, savepath=None, plotsize=(8,6)):\n",
    "    batch = batch.transpose(3,2).transpose(2,1)\n",
    "    img = torchvision.utils.make_grid(batch, nrow=n_row, padding =1)\n",
    "    img = img.transpose(0,1).transpose(1,2)\n",
    "    #print(img.shape)\n",
    "    plt.imshow(img)\n",
    "    height, width = img.shape[0], img.shape[1]\n",
    "    num_img_width = n_row\n",
    "    limits = [-1, 1]\n",
    "    #lines = [r\"$h_1$\", r\"$h_2$\", r\"$h_3$\", r\"$h_4$\", r\"$h_5$\", r\"$h_6$\"]\n",
    "    #lines = [r\"$e_1$\", r\"$e_2$\", r\"$e_3$\", r\"$e_4$\", r\"$e_5$\", r\"$e_6$\"]\n",
    "    lines = [r\"$z_1$\", r\"$z_2$\", r\"$z_3$\"]\n",
    "    plt.yticks((np.arange(0,3)+0.5)*(height/3), lines)\n",
    "    plt.xticks(np.array([0.5,num_img_width/2, num_img_width-0.5])*(width/num_img_width), [str(limits[0]), \"0\", str(limits[1])])\n",
    "    #plt.xlabel(\"magnitude of change\")\n",
    "    #plt.text(0.71, 0.715, f\"dci={dci}\", fontsize=8, transform=plt.gcf().transFigure)\n",
    "    #plt.annotate(, (width-130, 0), fontsize=8)\n",
    "    plt.gcf().set_size_inches(*plotsize)\n",
    "    plt.tight_layout()\n",
    "    if savepath is not None:\n",
    "        plt.savefig(savepath, backend=\"pgf\", dpi=800)"
   ]
  },
  {
   "cell_type": "code",
   "execution_count": 149,
   "id": "f3902376",
   "metadata": {},
   "outputs": [
    {
     "data": {
      "image/png": "[encoded data removed]",
      "text/plain": [
       "<Figure size 576x432 with 1 Axes>"
      ]
     },
     "metadata": {
      "needs_background": "light"
     },
     "output_type": "display_data"
    }
   ],
   "source": [
    "plot_traversal(torch.from_numpy(batch), n_row=n_intervals)"
   ]
  },
  {
   "cell_type": "markdown",
   "id": "43bfab7d",
   "metadata": {},
   "source": [
    "## Test gradient computation of generator."
   ]
  },
  {
   "cell_type": "code",
   "execution_count": 150,
   "id": "46791ca4",
   "metadata": {},
   "outputs": [],
   "source": [
    "# Define a sample to study\n",
    "if use_colorbar:\n",
    "    facts = torch.tensor([[2.6759, 0.787, 2.5879]]).reshape(1,3)\n",
    "else:\n",
    "    facts = torch.tensor([8.4, 9.9, 0.1, 8.4]).reshape(-1,4)\n",
    "#facts.requires_grad_(True)\n",
    "batch = syn_dataset.sample_observations_from_factors(facts, ret_torch=True)"
   ]
  },
  {
   "cell_type": "code",
   "execution_count": 151,
   "id": "ebc259d9",
   "metadata": {},
   "outputs": [
    {
     "data": {
      "text/plain": [
       "<matplotlib.image.AxesImage at 0x7f6ddc1ad978>"
      ]
     },
     "execution_count": 151,
     "metadata": {},
     "output_type": "execute_result"
    },
    {
     "data": {
      "image/png": "[encoded data removed]",
      "text/plain": [
       "<Figure size 460.8x316.8 with 1 Axes>"
      ]
     },
     "metadata": {
      "needs_background": "light"
     },
     "output_type": "display_data"
    }
   ],
   "source": [
    "f, ax = plt.subplots()\n",
    "ax.imshow(batch[0].detach().numpy())"
   ]
  },
  {
   "cell_type": "markdown",
   "id": "2c63ce70-d579-4243-bf49-e5ab6ce166ce",
   "metadata": {},
   "source": [
    "We use the generator attribution function implemented in the ```attributions``` folder to compute the generators attributions. However, this function expects a generator object with a ```decode``` function. To this end, we construct a Wrapper class around the ground truth generator."
   ]
  },
  {
   "cell_type": "code",
   "execution_count": 152,
   "id": "c3af1d8a",
   "metadata": {},
   "outputs": [],
   "source": [
    "class GTGenWrapper():\n",
    "    def __init__(self, gt_process):\n",
    "        self.my_gt = gt_process\n",
    "    def decode(self, latent):\n",
    "        return self.my_gt.sample_observations_from_factors(facts, ret_torch=True)\n",
    "    \n",
    "from common.attributions import generator_jacobian"
   ]
  },
  {
   "cell_type": "code",
   "execution_count": 153,
   "id": "4c4da63e",
   "metadata": {},
   "outputs": [],
   "source": [
    "batch = syn_dataset.sample_observations_from_factors(facts, ret_torch=True)\n",
    "jac = generator_jacobian(GTGenWrapper(syn_dataset), facts)"
   ]
  },
  {
   "cell_type": "code",
   "execution_count": 154,
   "id": "25b34c35",
   "metadata": {},
   "outputs": [
    {
     "name": "stdout",
     "output_type": "stream",
     "text": [
      "tensor(0.1630)\n",
      "tensor(1.3911)\n",
      "tensor(3.1750)\n"
     ]
    },
    {
     "data": {
      "image/png": "[encoded data removed]",
      "text/plain": [
       "<Figure size 288x288 with 5 Axes>"
      ]
     },
     "metadata": {
      "needs_background": "light"
     },
     "output_type": "display_data"
    }
   ],
   "source": [
    "f, ax_list = plt.subplots(2, 2)\n",
    "\n",
    "\n",
    "ax_list = list(ax_list[0]) + list(ax_list[1])\n",
    "\n",
    "if num_factors ==3:\n",
    "    ax_list[-1].axis(\"off\")\n",
    "    ax_list = ax_list[:-1]\n",
    "mres=0\n",
    "for idx, a in enumerate(ax_list):\n",
    "    out = torch.sum(jac[0, idx,:,:,:], dim=-1)\n",
    "    print(out.norm()) # Print the norm of the attribution \n",
    "    im = a.matshow(out, vmin=-0.2, vmax=0.2, cmap=\"seismic\")\n",
    "    a.set_xticks([])\n",
    "    a.set_yticks([])\n",
    "    a.set_xlabel(f\"$z_{idx+1}$\")\n",
    "#plt.tight_layout()\n",
    "cbar = plt.colorbar(im, ax=ax_list, shrink=0.95)\n",
    "#cbar.ax.set_ylabel('gradients (channel sum)')\n",
    "#plt.gcf().set_size_inches(2)\n",
    "plt.gcf().set_size_inches(4, 4)\n",
    "plt.show()"
   ]
  },
  {
   "cell_type": "markdown",
   "id": "3a143ad2-12fd-46f9-a1ec-672555ef6b69",
   "metadata": {},
   "source": [
    "## Test for orthogonal / disjoint attributions"
   ]
  },
  {
   "cell_type": "markdown",
   "id": "81b72993-ca7e-4aef-bfd2-6bd98d442503",
   "metadata": {},
   "source": [
    "Let's check if the attributions of the dataset are orthogonal (IMA) or disjoint (DMA)"
   ]
  },
  {
   "cell_type": "code",
   "execution_count": 155,
   "id": "aab1810d-eb24-4b71-8850-f5fc3d4a4640",
   "metadata": {},
   "outputs": [
    {
     "data": {
      "text/plain": [
       "torch.Size([3, 8, 8, 3])"
      ]
     },
     "execution_count": 155,
     "metadata": {},
     "output_type": "execute_result"
    }
   ],
   "source": [
    "jac[0].shape"
   ]
  },
  {
   "cell_type": "code",
   "execution_count": 156,
   "id": "369fe09c-c989-474f-9af1-4c0d28152d3c",
   "metadata": {},
   "outputs": [
    {
     "name": "stdout",
     "output_type": "stream",
     "text": [
      "Deviation:  tensor(5.6578e-08)\n"
     ]
    },
    {
     "data": {
      "text/plain": [
       "<matplotlib.image.AxesImage at 0x7f6df711f780>"
      ]
     },
     "execution_count": 156,
     "metadata": {},
     "output_type": "execute_result"
    },
    {
     "data": {
      "image/png": "[encoded data removed]",
      "text/plain": [
       "<Figure size 316.8x316.8 with 1 Axes>"
      ]
     },
     "metadata": {
      "needs_background": "light"
     },
     "output_type": "display_data"
    }
   ],
   "source": [
    "## Orthogonal gradients (IMA)\n",
    "jacobian = jac[0].reshape(num_factors, -1)\n",
    "prod = jacobian @ jacobian.t()\n",
    "print(\"Deviation: \", torch.sum(torch.abs(prod-torch.diag(torch.diag(prod)))))\n",
    "plt.matshow(prod)"
   ]
  },
  {
   "cell_type": "markdown",
   "id": "c6ec2891-9ce7-4846-8798-8849741e78b1",
   "metadata": {},
   "source": [
    "Looks good for ```Colorbar``` and ```Fourbars```: Both have orthogonal jacobians."
   ]
  },
  {
   "cell_type": "code",
   "execution_count": 157,
   "id": "41418c6f-a40b-4146-b5d8-d1c00fa3f5ac",
   "metadata": {},
   "outputs": [
    {
     "name": "stdout",
     "output_type": "stream",
     "text": [
      "Deviation:  tensor(1.0501)\n"
     ]
    },
    {
     "data": {
      "text/plain": [
       "<matplotlib.image.AxesImage at 0x7f6ddda3fe48>"
      ]
     },
     "execution_count": 157,
     "metadata": {},
     "output_type": "execute_result"
    },
    {
     "data": {
      "image/png": "[encoded data removed]",
      "text/plain": [
       "<Figure size 316.8x316.8 with 1 Axes>"
      ]
     },
     "metadata": {
      "needs_background": "light"
     },
     "output_type": "display_data"
    }
   ],
   "source": [
    "# Disjoint gradients (DMA) \n",
    "jacobian = jac[0].reshape(num_factors, -1)\n",
    "prod = torch.abs(jacobian) @ torch.abs(jacobian).t()\n",
    "print(\"Deviation: \", torch.sum(torch.abs(prod-torch.diag(torch.diag(prod)))))\n",
    "plt.matshow(prod)"
   ]
  },
  {
   "cell_type": "markdown",
   "id": "09bb39ff-3a9a-43a0-a038-d39da009af32",
   "metadata": {},
   "source": [
    "Not diagonal for ```Colorbar```, which does not have disjoint jacobians. ```FourBars``` features disjoint jacobians."
   ]
  },
  {
   "cell_type": "code",
   "execution_count": 158,
   "id": "476cf985",
   "metadata": {},
   "outputs": [
    {
     "name": "stdout",
     "output_type": "stream",
     "text": [
      "torch.Size([21, 3])\n",
      "torch.Size([21, 8, 8, 3]) <class 'torch.Tensor'>\n"
     ]
    },
    {
     "data": {
      "image/png": "[encoded data removed]",
      "text/plain": [
       "<Figure size 576x432 with 1 Axes>"
      ]
     },
     "metadata": {
      "needs_background": "light"
     },
     "output_type": "display_data"
    }
   ],
   "source": [
    "## Plot a random sample (used in the appendix)\n",
    "n_intervals = 7\n",
    "n_gen = n_intervals*num_factors\n",
    "facts = torch.tensor(syn_dataset.sample_factors(n_gen), dtype=torch.float)\n",
    "print(facts.shape)\n",
    "batch = syn_dataset.sample_observations_from_factors(facts, ret_torch=True)\n",
    "print(batch.shape, type(batch))\n",
    "#batch = batch.transpose(3,2).transpose(2, 1)\n",
    "plot_traversal(batch, n_row=n_intervals)"
   ]
  }
 ],
 "metadata": {
  "kernelspec": {
   "display_name": "interpretable_concepts",
   "language": "python",
   "name": "interpretable_concepts"
  },
  "language_info": {
   "codemirror_mode": {
    "name": "ipython",
    "version": 3
   },
   "file_extension": ".py",
   "mimetype": "text/x-python",
   "name": "python",
   "nbconvert_exporter": "python",
   "pygments_lexer": "ipython3",
   "version": "3.6.8"
  }
 },
 "nbformat": 4,
 "nbformat_minor": 5
}
